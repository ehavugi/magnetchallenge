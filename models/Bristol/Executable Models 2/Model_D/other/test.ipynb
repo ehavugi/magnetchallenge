{
 "cells": [
  {
   "cell_type": "code",
   "execution_count": 89,
   "metadata": {},
   "outputs": [],
   "source": [
    "import torch\n",
    "import torch.nn as nn"
   ]
  },
  {
   "cell_type": "code",
   "execution_count": 90,
   "metadata": {},
   "outputs": [
    {
     "data": {
      "text/plain": [
       "tensor([[[ 0],\n",
       "         [ 1],\n",
       "         [ 2],\n",
       "         [ 3],\n",
       "         [ 4],\n",
       "         [ 5],\n",
       "         [ 6],\n",
       "         [ 7],\n",
       "         [ 8],\n",
       "         [ 9],\n",
       "         [10],\n",
       "         [11]],\n",
       "\n",
       "        [[12],\n",
       "         [13],\n",
       "         [14],\n",
       "         [15],\n",
       "         [16],\n",
       "         [17],\n",
       "         [18],\n",
       "         [19],\n",
       "         [20],\n",
       "         [21],\n",
       "         [22],\n",
       "         [23]],\n",
       "\n",
       "        [[24],\n",
       "         [25],\n",
       "         [26],\n",
       "         [27],\n",
       "         [28],\n",
       "         [29],\n",
       "         [30],\n",
       "         [31],\n",
       "         [32],\n",
       "         [33],\n",
       "         [34],\n",
       "         [35]],\n",
       "\n",
       "        [[36],\n",
       "         [37],\n",
       "         [38],\n",
       "         [39],\n",
       "         [40],\n",
       "         [41],\n",
       "         [42],\n",
       "         [43],\n",
       "         [44],\n",
       "         [45],\n",
       "         [46],\n",
       "         [47]]])"
      ]
     },
     "execution_count": 90,
     "metadata": {},
     "output_type": "execute_result"
    }
   ],
   "source": [
    "in_b=torch.zeros(4,12,1)\n",
    "# fill the tensor with values from 0 to 47 for dim 1\n",
    "in_b=torch.arange(48).view(4,12,1)\n",
    "\n",
    "# flip the tensor along dim 1\n",
    "#in_b=torch.flip(in_b,[1])\n",
    "in_b"
   ]
  },
  {
   "cell_type": "code",
   "execution_count": 95,
   "metadata": {},
   "outputs": [
    {
     "data": {
      "text/plain": [
       "tensor([[[ 0],\n",
       "         [ 1],\n",
       "         [ 2],\n",
       "         [ 3],\n",
       "         [ 4],\n",
       "         [ 5],\n",
       "         [ 6],\n",
       "         [ 7],\n",
       "         [ 8],\n",
       "         [ 9],\n",
       "         [10],\n",
       "         [11]],\n",
       "\n",
       "        [[23],\n",
       "         [22],\n",
       "         [21],\n",
       "         [20],\n",
       "         [19],\n",
       "         [18],\n",
       "         [17],\n",
       "         [16],\n",
       "         [15],\n",
       "         [14],\n",
       "         [13],\n",
       "         [12]],\n",
       "\n",
       "        [[24],\n",
       "         [25],\n",
       "         [26],\n",
       "         [27],\n",
       "         [28],\n",
       "         [29],\n",
       "         [30],\n",
       "         [31],\n",
       "         [32],\n",
       "         [33],\n",
       "         [34],\n",
       "         [35]],\n",
       "\n",
       "        [[36],\n",
       "         [37],\n",
       "         [38],\n",
       "         [39],\n",
       "         [40],\n",
       "         [41],\n",
       "         [42],\n",
       "         [43],\n",
       "         [44],\n",
       "         [45],\n",
       "         [46],\n",
       "         [47]]])"
      ]
     },
     "execution_count": 95,
     "metadata": {},
     "output_type": "execute_result"
    }
   ],
   "source": [
    "# random flip vertically and horizontally\n",
    "for i in range(in_b.shape[0]):\n",
    "    # flip vertically\n",
    "    if torch.rand(1) > 0.5:\n",
    "        pass\n",
    "        in_b[i, :, :] = -in_b[i, :, :]\n",
    "    # flip horizontally\n",
    "    if torch.rand(1) > 0.5:\n",
    "        pass\n",
    "        in_b[i, :, :] = torch.flip(in_b[i, :, :], [0])\n",
    "\n",
    "in_b"
   ]
  }
 ],
 "metadata": {
  "kernelspec": {
   "display_name": "DeepLearning",
   "language": "python",
   "name": "python3"
  },
  "language_info": {
   "codemirror_mode": {
    "name": "ipython",
    "version": 3
   },
   "file_extension": ".py",
   "mimetype": "text/x-python",
   "name": "python",
   "nbconvert_exporter": "python",
   "pygments_lexer": "ipython3",
   "version": "3.11.5"
  }
 },
 "nbformat": 4,
 "nbformat_minor": 2
}
