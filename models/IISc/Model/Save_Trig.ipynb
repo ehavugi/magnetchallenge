{
 "cells": [
  {
   "cell_type": "code",
   "execution_count": 11,
   "id": "83f46ca5",
   "metadata": {},
   "outputs": [
    {
     "ename": "NameError",
     "evalue": "name 'Material' is not defined",
     "output_type": "error",
     "traceback": [
      "\u001b[1;31m---------------------------------------------------------------------------\u001b[0m",
      "\u001b[1;31mNameError\u001b[0m                                 Traceback (most recent call last)",
      "\u001b[1;32m<ipython-input-11-5d2e243dc491>\u001b[0m in \u001b[0;36m<module>\u001b[1;34m\u001b[0m\n\u001b[1;32m----> 1\u001b[1;33m \u001b[0mfilename\u001b[0m \u001b[1;33m=\u001b[0m \u001b[0mMaterial\u001b[0m \u001b[1;33m+\u001b[0m \u001b[0mTSet\u001b[0m\u001b[1;33m[\u001b[0m\u001b[0mm\u001b[0m\u001b[1;33m]\u001b[0m \u001b[1;33m+\u001b[0m \u001b[1;34m\"_Trig\"\u001b[0m\u001b[1;33m\u001b[0m\u001b[1;33m\u001b[0m\u001b[0m\n\u001b[0m\u001b[0;32m      2\u001b[0m \u001b[0mf1\u001b[0m \u001b[1;33m=\u001b[0m \u001b[1;34m'E:/OneDrive - Indian Institute of Science/_Magnetics Challenge/_Results/Data_Split/Data'\u001b[0m\u001b[1;33m+\u001b[0m\u001b[0mMaterial\u001b[0m\u001b[1;33m+\u001b[0m\u001b[1;34m'/'\u001b[0m\u001b[1;33m+\u001b[0m\u001b[0mfilename\u001b[0m\u001b[1;33m+\u001b[0m\u001b[1;34m'.xlsx'\u001b[0m\u001b[1;33m\u001b[0m\u001b[1;33m\u001b[0m\u001b[0m\n\u001b[0;32m      3\u001b[0m \u001b[1;33m\u001b[0m\u001b[0m\n\u001b[0;32m      4\u001b[0m \u001b[0mcritB1\u001b[0m \u001b[1;33m=\u001b[0m \u001b[1;33m[\u001b[0m\u001b[1;33m]\u001b[0m\u001b[1;33m;\u001b[0m \u001b[0mcritB2\u001b[0m \u001b[1;33m=\u001b[0m \u001b[1;33m[\u001b[0m\u001b[1;33m]\u001b[0m\u001b[1;33m;\u001b[0m \u001b[0mpos_dBdt\u001b[0m \u001b[1;33m=\u001b[0m \u001b[1;33m[\u001b[0m\u001b[1;33m]\u001b[0m\u001b[1;33m;\u001b[0m \u001b[0mneg_dBdt\u001b[0m \u001b[1;33m=\u001b[0m \u001b[1;33m[\u001b[0m\u001b[1;33m]\u001b[0m\u001b[1;33m;\u001b[0m\u001b[1;33m\u001b[0m\u001b[1;33m\u001b[0m\u001b[0m\n\u001b[0;32m      5\u001b[0m \u001b[1;33m\u001b[0m\u001b[0m\n",
      "\u001b[1;31mNameError\u001b[0m: name 'Material' is not defined"
     ]
    }
   ],
   "source": [
    "wave = \"_Trig\"\n",
    "newpath = './DataSplit/'+Material+'/'+wave \n",
    "if not os.path.exists(newpath):\n",
    "    os.makedirs(newpath)\n",
    "    \n",
    "filename = Material + str(TSet[m]) + wave\n",
    "f1 = './DataSplit/'+Material+'/'+wave+'/'+filename+'.xlsx'\n",
    "\n",
    "critB1 = []; critB2 = []; pos_dBdt = []; neg_dBdt = [];\n",
    "\n",
    "for i in range(0,len(trigf)):\n",
    "    critB1.append(trigB[i][crittrig[i][0][0]]*1e3);\n",
    "    critB2.append(trigB[i][crittrig[i][0][1]]*1e3);\n",
    "    pos_dBdt.append(((critB1[i]-critB2[i])/(duty[i]))*trigf[i]*1e-3);\n",
    "    neg_dBdt.append(((critB2[i]-critB1[i])/(1-duty[i]))*trigf[i]*1e-3);\n",
    "\n",
    "# print(critB1)\n",
    "workbook = xlsxwriter.Workbook(f1)\n",
    "worksheet = workbook.add_worksheet('Data')\n",
    "\n",
    "row = 0\n",
    "worksheet.write(row,0,'DataIndex')\n",
    "worksheet.write(row,1,'Freq (kHz)')\n",
    "worksheet.write(row,2,'Bpk (mT)') \n",
    "worksheet.write(row,3,'T')\n",
    "worksheet.write(row,4,'Duty')\n",
    "worksheet.write(row,5,'Critical_Index1')\n",
    "worksheet.write(row,6,'Critical_Index2')\n",
    "worksheet.write(row,7,'Bmax (mT)')\n",
    "worksheet.write(row,8,'Bmin (mT)')\n",
    "worksheet.write(row,9,'Pos_dB/dt')\n",
    "worksheet.write(row,10,'Neg_dB/dt')\n",
    "\n",
    "for kk in range (0,len(trigf)):\n",
    "    worksheet.write(row+1,0,trigInd[kk])\n",
    "    worksheet.write(row+1,1,trigf[kk]*1e-3)\n",
    "    worksheet.write(row+1,2,trigBpk[kk]*1e3)\n",
    "    worksheet.write(row+1,3,trigT[kk])\n",
    "    worksheet.write(row+1,4,duty[kk])\n",
    "    worksheet.write(row+1,5,crittrig[kk][0][0])\n",
    "    worksheet.write(row+1,6,crittrig[kk][0][1])\n",
    "    worksheet.write(row+1,7,critB1[kk])\n",
    "    worksheet.write(row+1,8,critB2[kk])\n",
    "    worksheet.write(row+1,9,pos_dBdt[kk])\n",
    "    worksheet.write(row+1,10,neg_dBdt[kk])\n",
    "    row +=1\n",
    "workbook.close()"
   ]
  }
 ],
 "metadata": {
  "kernelspec": {
   "display_name": "Python 3",
   "language": "python",
   "name": "python3"
  },
  "language_info": {
   "codemirror_mode": {
    "name": "ipython",
    "version": 3
   },
   "file_extension": ".py",
   "mimetype": "text/x-python",
   "name": "python",
   "nbconvert_exporter": "python",
   "pygments_lexer": "ipython3",
   "version": "3.8.8"
  }
 },
 "nbformat": 4,
 "nbformat_minor": 5
}
