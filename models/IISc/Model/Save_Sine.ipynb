{
 "cells": [
  {
   "cell_type": "code",
   "execution_count": null,
   "id": "711c4c2f",
   "metadata": {},
   "outputs": [],
   "source": [
    "wave = \"_Sine\"\n",
    "newpath = './DataSplit/'+ Material+'/'+wave \n",
    "\n",
    "if not os.path.exists(newpath):\n",
    "    os.makedirs(newpath)  \n",
    "\n",
    "filename = Material + str(TSet[m]) + wave\n",
    "f1 = './DataSplit/'+Material+'/'+wave+'/'+filename+'.xlsx'\n",
    "\n",
    "workbook = xlsxwriter.Workbook(f1)\n",
    "worksheet = workbook.add_worksheet('Data')\n",
    "\n",
    "row = 0\n",
    "worksheet.write(row,0,'DataIndex')\n",
    "worksheet.write(row,1,'Freq (kHz)')\n",
    "worksheet.write(row,2,'Bpkpk (mT)') \n",
    "worksheet.write(row,3,'T') \n",
    "worksheet.write(row,4,'minBpk (mT)') \n",
    "worksheet.write(row,5,'maxBpk (mT)') \n",
    "worksheet.write(row,6,'RMSB (mT)') \n",
    "worksheet.write(row,7,'Period (us)') \n",
    "\n",
    "for kk in range (0,len(sinef)):\n",
    "    worksheet.write(row+1,0,sineInd[kk])\n",
    "    worksheet.write(row+1,1,sinef[kk]*1e-3)\n",
    "    worksheet.write(row+1,2,sineBpk[kk]*1e3)\n",
    "    worksheet.write(row+1,3,sineT[kk])\n",
    "    worksheet.write(row+1,4,sineMaxB[kk]*1e3)\n",
    "    worksheet.write(row+1,5,sineMinB[kk]*1e3)\n",
    "    worksheet.write(row+1,6,sineRMS[kk]*1e3)\n",
    "    worksheet.write(row+1,7,sinePeriod[kk]*1e6)\n",
    "\n",
    "    row +=1\n",
    "workbook.close()"
   ]
  }
 ],
 "metadata": {
  "kernelspec": {
   "display_name": "Python 3",
   "language": "python",
   "name": "python3"
  },
  "language_info": {
   "codemirror_mode": {
    "name": "ipython",
    "version": 3
   },
   "file_extension": ".py",
   "mimetype": "text/x-python",
   "name": "python",
   "nbconvert_exporter": "python",
   "pygments_lexer": "ipython3",
   "version": "3.8.8"
  }
 },
 "nbformat": 4,
 "nbformat_minor": 5
}
