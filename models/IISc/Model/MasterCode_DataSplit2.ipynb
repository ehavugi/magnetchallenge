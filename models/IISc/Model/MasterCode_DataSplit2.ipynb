{
 "cells": [
  {
   "cell_type": "code",
   "execution_count": 1,
   "id": "74be2386",
   "metadata": {},
   "outputs": [],
   "source": [
    "import os\n",
    "import xlsxwriter\n",
    "import numpy as np\n",
    "import pandas as pd"
   ]
  },
  {
   "cell_type": "code",
   "execution_count": null,
   "id": "327f0956",
   "metadata": {},
   "outputs": [],
   "source": [
    "DataF1 = data_F\n",
    "DataB1 = data_B\n",
    "DataT1 = data_T\n",
    "\n",
    "index = pd.DataFrame((np.arange(1,len(DataF1)+1,1)))\n",
    "df = pd.concat([pd.DataFrame(DataT1), pd.DataFrame(DataF1), index, pd.DataFrame(DataB1)], ignore_index=True, axis=1)\n",
    "data = df.sort_values(by=0)    \n",
    "   \n",
    "DataF1 = data[1].to_numpy()\n",
    "DataB1 = data.iloc[:, 3:,].to_numpy()\n",
    "DataT1 = data[0].to_numpy()\n",
    "DataIndex1 = data[2].to_numpy()"
   ]
  },
  {
   "cell_type": "code",
   "execution_count": null,
   "id": "5afa40d7",
   "metadata": {
    "scrolled": false
   },
   "outputs": [
    {
     "name": "stdout",
     "output_type": "stream",
     "text": [
      "Printing\n",
      "Iteration for: 25\n",
      "Saving Files-Sine: 25\n",
      "Saving Files-Triangular: 25\n",
      "Saving Files-Trapezoidal: 25\n",
      "Printing\n",
      "Iteration for: 50\n",
      "Saving Files-Sine: 50\n",
      "Saving Files-Triangular: 50\n",
      "Saving Files-Trapezoidal: 50\n",
      "Printing\n",
      "Iteration for: 70\n",
      "Saving Files-Sine: 70\n",
      "Saving Files-Triangular: 70\n",
      "Saving Files-Trapezoidal: 70\n",
      "Printing\n",
      "Iteration for: 90\n",
      "Saving Files-Sine: 90\n",
      "Saving Files-Triangular: 90\n",
      "Saving Files-Trapezoidal: 90\n"
     ]
    }
   ],
   "source": [
    "for m in range(0,4):\n",
    "    print('Processing!!')\n",
    "    %run Data_Splitting.ipynb\n",
    "    print('Iteration for:',TSet[m])\n",
    "    print('Saving Files-Sine:',TSet[m])\n",
    "    %run Save_Sine.ipynb\n",
    "    print('Saving Files-Triangular:',TSet[m])\n",
    "    %run Save_Trig.ipynb\n",
    "    print('Saving Files-Trapezoidal:',TSet[m])\n",
    "    %run Save_Trapezoidal.ipynb\n",
    "%run Save_Files_Combined_Sine.ipynb\n",
    "%run Save_Files_Combined_Trig.ipynb\n",
    "%run Save_Files_Combined_Trap.ipynb"
   ]
  }
 ],
 "metadata": {
  "kernelspec": {
   "display_name": "Python 3",
   "language": "python",
   "name": "python3"
  },
  "language_info": {
   "codemirror_mode": {
    "name": "ipython",
    "version": 3
   },
   "file_extension": ".py",
   "mimetype": "text/x-python",
   "name": "python",
   "nbconvert_exporter": "python",
   "pygments_lexer": "ipython3",
   "version": "3.10.9"
  }
 },
 "nbformat": 4,
 "nbformat_minor": 5
}
