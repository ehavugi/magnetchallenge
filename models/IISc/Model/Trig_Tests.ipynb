{
 "cells": [
  {
   "cell_type": "code",
   "execution_count": 1,
   "metadata": {},
   "outputs": [],
   "source": [
    "import torch\n",
    "from torch import Tensor\n",
    "import torch.nn as nn\n",
    "import torch.nn.functional as F\n",
    "import torch.optim as optim\n",
    "import random\n",
    "import numpy as np\n",
    "import json\n",
    "import math\n",
    "import csv\n",
    "import pandas as pd\n",
    "from scipy import optimize\n",
    "import torch.optim.lr_scheduler as lr_scheduler"
   ]
  },
  {
   "cell_type": "code",
   "execution_count": null,
   "metadata": {},
   "outputs": [],
   "source": [
    "#define architecture for three waveforms\n",
    "class Net(nn.Module):                        # model class      \n",
    "    def __init__(self):                      \n",
    "        super().__init__()\n",
    "        self.fc1 = nn.Linear(8, 16)    # four-layered network; number of neurons in each layer\n",
    "        self.fc2 = nn.Linear(16, 256)   # equals number of output; no. of bias = no. of outputs; weights = no. of(input*output)\n",
    "        self.fc3 = nn.Linear(256, 16)\n",
    "        self.fc4 = nn.Linear(16,1)\n",
    "\n",
    "    def forward(self, x):              # x is the input vector #\n",
    "        x = F.tanh(self.fc1(x))\n",
    "        x = F.tanh(self.fc2(x))\n",
    "        x = F.tanh(self.fc3(x))\n",
    "        x = self.fc4(x)                # real value\n",
    "        return x"
   ]
  },
  {
   "cell_type": "code",
   "execution_count": 2,
   "metadata": {},
   "outputs": [
    {
     "name": "stderr",
     "output_type": "stream",
     "text": [
      "C:\\Users\\himan\\AppData\\Local\\Temp\\ipykernel_33336\\3732659971.py:12: RuntimeWarning: invalid value encountered in log10\n",
      "  DataF = np.log10(DataF1)\n",
      "C:\\Users\\himan\\AppData\\Local\\Temp\\ipykernel_33336\\3732659971.py:18: RuntimeWarning: invalid value encountered in log10\n",
      "  DataTime = np.log10(DataTime1)\n"
     ]
    }
   ],
   "source": [
    "data = pd.read_excel('./DataSplit/'+Material+'/_Trig/' + Material +'_Trig'+ '.xlsx')\n",
    "\n",
    "DataF = data['Freq (kHz)'].to_numpy()\n",
    "DataB = data['Bpk (mT)'].to_numpy()\n",
    "DataT = data['T'].to_numpy()\n",
    "DataD = data['Duty'].to_numpy()\n",
    "DataS1 = data['Pos_dB/dt'].to_numpy()\n",
    "DataS2 = data['Neg_dB/dt'].to_numpy()\n",
    "DataIndTrig = data['DataIndex'].to_numpy()\n",
    "\n",
    "f1 = DataF/DataD\n",
    "f2 = DataF/(1-DataD)\n",
    "\n",
    "DataF = np.log10(DataF)\n",
    "DataB = np.log10(DataB)\n",
    "DataT = np.log10(DataT)\n",
    "DataS1 = np.log10(abs(DataS1))\n",
    "DataS2 = np.log10(abs(DataS2))\n",
    "f1 = np.log10(f1)\n",
    "f2 = np.log10(f2)\n",
    "\n",
    "DataF = DataF.reshape((-1,1))\n",
    "f1 = f1.reshape((-1,1))\n",
    "f2 = f2.reshape((-1,1))\n",
    "DataB = DataB.reshape((-1,1))\n",
    "DataT = DataT.reshape((-1,1))\n",
    "DataD = DataD.reshape((-1,1))\n",
    "DataS1 = DataS1.reshape((-1,1))\n",
    "DataS2 = DataS2.reshape((-1,1))\n",
    "\n",
    "input_data = np.concatenate((f1,f2,DataB,DataT,DataD,DataF,DataS1,DataS2),axis=1)\n",
    "input_tensors = torch.from_numpy(input_data).view(-1,8)\n",
    "dataset_trig = torch.utils.data.TensorDataset(input_tensors)"
   ]
  },
  {
   "cell_type": "code",
   "execution_count": null,
   "metadata": {},
   "outputs": [],
   "source": [
    "test_loader_trig = torch.utils.data.DataLoader(dataset_trig, batch_size = 128, shuffle = False)\n",
    "\n",
    "net_trig = Net().double()\n",
    "ckpt_trig = torch.load('./Trained_Models/'+Material+'_trig_train.pt')\n",
    "net_trig = ckpt_trig['model'] # load the trained model\n",
    "y_pred = []\n",
    "net_trig.eval()\n",
    "with torch.no_grad():\n",
    "    for inputs, in test_loader_trig:\n",
    "        test_out = net_trig(inputs)\n",
    "        y_pred.append(test_out)\n",
    "\n",
    "y_pred = torch.cat(y_pred, dim=0)\n",
    "trig_test_out = (10**(y_pred.numpy()))*1e3\n",
    "trig_index    = DataIndTrig"
   ]
  }
 ],
 "metadata": {
  "kernelspec": {
   "display_name": "Python 3",
   "language": "python",
   "name": "python3"
  },
  "language_info": {
   "codemirror_mode": {
    "name": "ipython",
    "version": 3
   },
   "file_extension": ".py",
   "mimetype": "text/x-python",
   "name": "python",
   "nbconvert_exporter": "python",
   "pygments_lexer": "ipython3",
   "version": "3.11.7"
  }
 },
 "nbformat": 4,
 "nbformat_minor": 2
}
