{
 "cells": [
  {
   "cell_type": "code",
   "execution_count": 1,
   "metadata": {},
   "outputs": [],
   "source": [
    "import torch\n",
    "from torch import Tensor\n",
    "import torch.nn as nn\n",
    "import torch.nn.functional as F\n",
    "import torch.optim as optim\n",
    "import random\n",
    "import numpy as np\n",
    "import json\n",
    "import math\n",
    "import csv\n",
    "import pandas as pd\n",
    "from scipy import optimize\n",
    "import torch.optim.lr_scheduler as lr_scheduler"
   ]
  },
  {
   "cell_type": "code",
   "execution_count": null,
   "metadata": {},
   "outputs": [],
   "source": [
    "#define architecture for three waveforms\n",
    "class Net(nn.Module):                        # model class      \n",
    "    def __init__(self):                      \n",
    "        super().__init__()\n",
    "        self.fc1 = nn.Linear(12, 16)    # four-layered network; number of neurons in each layer\n",
    "        self.fc2 = nn.Linear(16, 256)   # equals number of output; no. of bias = no. of outputs; weights = no. of(input*output)\n",
    "        self.fc3 = nn.Linear(256, 16)\n",
    "        self.fc4 = nn.Linear(16,1)\n",
    "\n",
    "\n",
    "    def forward(self, x):              # x is the input vector #\n",
    "        x = F.tanh(self.fc1(x))\n",
    "        x = F.tanh(self.fc2(x))\n",
    "        x = F.tanh(self.fc3(x))\n",
    "        x = self.fc4(x)                # real value\n",
    "        return x"
   ]
  },
  {
   "cell_type": "code",
   "execution_count": 2,
   "metadata": {},
   "outputs": [
    {
     "name": "stderr",
     "output_type": "stream",
     "text": [
      "C:\\Users\\himan\\AppData\\Local\\Temp\\ipykernel_33336\\3732659971.py:12: RuntimeWarning: invalid value encountered in log10\n",
      "  DataF = np.log10(DataF1)\n",
      "C:\\Users\\himan\\AppData\\Local\\Temp\\ipykernel_33336\\3732659971.py:18: RuntimeWarning: invalid value encountered in log10\n",
      "  DataTime = np.log10(DataTime1)\n"
     ]
    }
   ],
   "source": [
    "data = pd.read_excel('./DataSplit/'+Material+'/_Trap/' + Material +'_Trap'+ '.xlsx')\n",
    "\n",
    "data = data[data['D1']!=0]\n",
    "data = data[data['D3']!=0]\n",
    "\n",
    "DataF = data['Freq (kHz)'].to_numpy()\n",
    "DataB = data['Bpk (mT)'].to_numpy()\n",
    "DataT = data['T'].to_numpy()\n",
    "DataD1 = data['D1'].to_numpy()\n",
    "DataD2 = data['D2'].to_numpy()\n",
    "DataD3 = data['D3'].to_numpy()\n",
    "CritB1 = data['CritB1 (mT)'].to_numpy()\n",
    "CritB2 = data['CritB2 (mT)'].to_numpy()\n",
    "CritB3 = data['CritB3 (mT)'].to_numpy()\n",
    "CritB4 = data['CritB4 (mT)'].to_numpy()\n",
    "DataIndTrap = data['DataIndex'].to_numpy() \n",
    "\n",
    "f1 = DataF/DataD1\n",
    "f2 = DataF/DataD2\n",
    "f3 = DataF/DataD3\n",
    "B1 = np.abs(CritB1 - CritB4)/2\n",
    "B2 = np.abs(CritB2 - CritB1)/2\n",
    "for i in range(len(B2)):\n",
    "    if B2[i] == 0:\n",
    "        B2[i] = np.abs(CritB2[i])\n",
    "        f2[i] = 1\n",
    "B3 = np.abs(CritB3 - CritB2)/2\n",
    "\n",
    "f1 = np.log10(f1)\n",
    "f2 = np.log10(f2)\n",
    "f3 = np.log10(f3)\n",
    "B1 = np.log10(B1)\n",
    "B2 = np.log10(B2)\n",
    "B3 = np.log10(B3)\n",
    "f  = np.log10(DataF)\n",
    "DataT = np.log10(DataT)\n",
    "DataB = np.log10(DataB)\n",
    "\n",
    "\n",
    "DataD1 = DataD1.reshape((-1,1))\n",
    "DataD2 = DataD2.reshape((-1,1))\n",
    "DataD3 = DataD3.reshape((-1,1))\n",
    "f = f.reshape((-1,1))\n",
    "f1 = f1.reshape((-1,1))\n",
    "f2 = f2.reshape((-1,1))\n",
    "f3 = f3.reshape((-1,1))\n",
    "B1 = B1.reshape((-1,1))\n",
    "B2 = B2.reshape((-1,1))\n",
    "B3 = B3.reshape((-1,1))\n",
    "DataT = DataT.reshape((-1,1))\n",
    "DataB = DataB.reshape((-1,1))\n",
    "\n",
    "input_data = np.concatenate((f1,f2,f3,B1,B2,B3,DataD1,DataD2,DataD3,DataT,f,DataB),axis=1)\n",
    "input_tensors = torch.from_numpy(input_data).view(-1,12)\n",
    "dataset_trap = torch.utils.data.TensorDataset(input_tensors)"
   ]
  },
  {
   "cell_type": "code",
   "execution_count": null,
   "metadata": {},
   "outputs": [],
   "source": [
    "test_loader_trap = torch.utils.data.DataLoader(dataset_trap, batch_size = 128, shuffle = False)\n",
    "\n",
    "net_trap = Net().double()\n",
    "ckpt_trap = torch.load('./Trained_Models/'+Material+'_trap_train.pt')\n",
    "net_trap = ckpt_trap['model'] # load the trained model\n",
    "y_pred = []\n",
    "net_trap.eval()\n",
    "with torch.no_grad():\n",
    "    for inputs, in test_loader_trap:\n",
    "        test_out = net_trap(inputs)\n",
    "        y_pred.append(test_out)\n",
    "\n",
    "y_pred = torch.cat(y_pred, dim=0)\n",
    "trap_test_out = (10**(y_pred.numpy()))*1e3\n",
    "trap_index    = DataIndTrap"
   ]
  }
 ],
 "metadata": {
  "kernelspec": {
   "display_name": "Python 3",
   "language": "python",
   "name": "python3"
  },
  "language_info": {
   "codemirror_mode": {
    "name": "ipython",
    "version": 3
   },
   "file_extension": ".py",
   "mimetype": "text/x-python",
   "name": "python",
   "nbconvert_exporter": "python",
   "pygments_lexer": "ipython3",
   "version": "3.11.7"
  }
 },
 "nbformat": 4,
 "nbformat_minor": 2
}
