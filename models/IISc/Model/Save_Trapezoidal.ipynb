{
 "cells": [
  {
   "cell_type": "code",
   "execution_count": 11,
   "id": "83f46ca5",
   "metadata": {},
   "outputs": [
    {
     "ename": "NameError",
     "evalue": "name 'Material' is not defined",
     "output_type": "error",
     "traceback": [
      "\u001b[1;31m---------------------------------------------------------------------------\u001b[0m",
      "\u001b[1;31mNameError\u001b[0m                                 Traceback (most recent call last)",
      "\u001b[1;32m<ipython-input-11-5d2e243dc491>\u001b[0m in \u001b[0;36m<module>\u001b[1;34m\u001b[0m\n\u001b[1;32m----> 1\u001b[1;33m \u001b[0mfilename\u001b[0m \u001b[1;33m=\u001b[0m \u001b[0mMaterial\u001b[0m \u001b[1;33m+\u001b[0m \u001b[0mTSet\u001b[0m\u001b[1;33m[\u001b[0m\u001b[0mm\u001b[0m\u001b[1;33m]\u001b[0m \u001b[1;33m+\u001b[0m \u001b[1;34m\"_Trig\"\u001b[0m\u001b[1;33m\u001b[0m\u001b[1;33m\u001b[0m\u001b[0m\n\u001b[0m\u001b[0;32m      2\u001b[0m \u001b[0mf1\u001b[0m \u001b[1;33m=\u001b[0m \u001b[1;34m'E:/OneDrive - Indian Institute of Science/_Magnetics Challenge/_Results/Data_Split/Data'\u001b[0m\u001b[1;33m+\u001b[0m\u001b[0mMaterial\u001b[0m\u001b[1;33m+\u001b[0m\u001b[1;34m'/'\u001b[0m\u001b[1;33m+\u001b[0m\u001b[0mfilename\u001b[0m\u001b[1;33m+\u001b[0m\u001b[1;34m'.xlsx'\u001b[0m\u001b[1;33m\u001b[0m\u001b[1;33m\u001b[0m\u001b[0m\n\u001b[0;32m      3\u001b[0m \u001b[1;33m\u001b[0m\u001b[0m\n\u001b[0;32m      4\u001b[0m \u001b[0mcritB1\u001b[0m \u001b[1;33m=\u001b[0m \u001b[1;33m[\u001b[0m\u001b[1;33m]\u001b[0m\u001b[1;33m;\u001b[0m \u001b[0mcritB2\u001b[0m \u001b[1;33m=\u001b[0m \u001b[1;33m[\u001b[0m\u001b[1;33m]\u001b[0m\u001b[1;33m;\u001b[0m \u001b[0mpos_dBdt\u001b[0m \u001b[1;33m=\u001b[0m \u001b[1;33m[\u001b[0m\u001b[1;33m]\u001b[0m\u001b[1;33m;\u001b[0m \u001b[0mneg_dBdt\u001b[0m \u001b[1;33m=\u001b[0m \u001b[1;33m[\u001b[0m\u001b[1;33m]\u001b[0m\u001b[1;33m;\u001b[0m\u001b[1;33m\u001b[0m\u001b[1;33m\u001b[0m\u001b[0m\n\u001b[0;32m      5\u001b[0m \u001b[1;33m\u001b[0m\u001b[0m\n",
      "\u001b[1;31mNameError\u001b[0m: name 'Material' is not defined"
     ]
    }
   ],
   "source": [
    "wave = \"_Trap\"\n",
    "newpath = './DataSplit/'+Material+'/'+wave \n",
    "if not os.path.exists(newpath):\n",
    "    os.makedirs(newpath)\n",
    "    \n",
    "filename = Material + str(TSet[m]) + wave\n",
    "f1 = './DataSplit/'+Material+'/'+wave+'/'+filename+'.xlsx'\n",
    "\n",
    "critB1 = []; critB2 = []; critB3 = []; critB4 = [];\n",
    "\n",
    "for i in range(0,len(trapf)):\n",
    "    critB1.append(trapB[i][crittrap[i][0][0]]*1e3);\n",
    "    critB2.append(trapB[i][crittrap[i][0][1]]*1e3);\n",
    "    critB3.append(trapB[i][crittrap[i][0][2]]*1e3);\n",
    "    critB4.append(trapB[i][crittrap[i][0][3]]*1e3);\n",
    "\n",
    "workbook = xlsxwriter.Workbook(f1)\n",
    "worksheet = workbook.add_worksheet('Data')\n",
    "\n",
    "row = 0\n",
    "worksheet.write(row,0,'DataIndex')\n",
    "worksheet.write(row,1,'Freq (kHz)')\n",
    "worksheet.write(row,2,'Bpk (mT)') \n",
    "worksheet.write(row,3,'T')\n",
    "worksheet.write(row,4,'D1')\n",
    "worksheet.write(row,5,'D2')\n",
    "worksheet.write(row,6,'D3')\n",
    "worksheet.write(row,7,'D4')\n",
    "worksheet.write(row,8,'Critical_Index1')\n",
    "worksheet.write(row,9,'Critical_Index2')\n",
    "worksheet.write(row,10,'Critical_Index3')\n",
    "worksheet.write(row,11,'Critical_Index4')\n",
    "worksheet.write(row,12,'CritB1 (mT)')\n",
    "worksheet.write(row,13,'CritB2 (mT)')\n",
    "worksheet.write(row,14,'CritB3 (mT)')\n",
    "worksheet.write(row,15,'CritB4 (mT)')\n",
    "\n",
    "for kk in range (0,len(trapf)):\n",
    "    worksheet.write(row+1,0,trapInd[kk])\n",
    "    worksheet.write(row+1,1,trapf[kk]*1e-3)\n",
    "    worksheet.write(row+1,2,trapBpk[kk]*1e3)\n",
    "    worksheet.write(row+1,3,trapT[kk])\n",
    "    worksheet.write(row+1,4,D1[kk])\n",
    "    worksheet.write(row+1,5,D2[kk])\n",
    "    worksheet.write(row+1,6,D3[kk])\n",
    "    worksheet.write(row+1,7,D4[kk])\n",
    "    worksheet.write(row+1,8,crittrap[kk][0][0])\n",
    "    worksheet.write(row+1,9,crittrap[kk][0][1])\n",
    "    worksheet.write(row+1,10,crittrap[kk][0][2])\n",
    "    worksheet.write(row+1,11,crittrap[kk][0][3])\n",
    "    worksheet.write(row+1,12,critB1[kk])\n",
    "    worksheet.write(row+1,13,critB2[kk]) \n",
    "    worksheet.write(row+1,14,critB3[kk])\n",
    "    worksheet.write(row+1,15,critB4[kk]) \n",
    "    row +=1\n",
    "workbook.close()"
   ]
  }
 ],
 "metadata": {
  "kernelspec": {
   "display_name": "Python 3 (ipykernel)",
   "language": "python",
   "name": "python3"
  },
  "language_info": {
   "codemirror_mode": {
    "name": "ipython",
    "version": 3
   },
   "file_extension": ".py",
   "mimetype": "text/x-python",
   "name": "python",
   "nbconvert_exporter": "python",
   "pygments_lexer": "ipython3",
   "version": "3.8.18"
  }
 },
 "nbformat": 4,
 "nbformat_minor": 5
}
