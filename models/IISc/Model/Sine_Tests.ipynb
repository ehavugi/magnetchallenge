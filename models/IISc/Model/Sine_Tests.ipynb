{
 "cells": [
  {
   "cell_type": "code",
   "execution_count": 1,
   "metadata": {},
   "outputs": [],
   "source": [
    "import torch\n",
    "from torch import Tensor\n",
    "import torch.nn as nn\n",
    "import torch.nn.functional as F\n",
    "import torch.optim as optim\n",
    "import random\n",
    "import numpy as np\n",
    "import json\n",
    "import math\n",
    "import csv\n",
    "import pandas as pd\n",
    "from scipy import optimize\n",
    "import torch.optim.lr_scheduler as lr_scheduler"
   ]
  },
  {
   "cell_type": "code",
   "execution_count": null,
   "metadata": {},
   "outputs": [],
   "source": [
    "#define architecture for three waveforms\n",
    "class Net(nn.Module):                        # model class      \n",
    "    def __init__(self):                      \n",
    "        super().__init__()\n",
    "        self.fc1 = nn.Linear(7, 16)    # four-layered network; number of neurons in each layer\n",
    "        self.fc2 = nn.Linear(16, 256)   # equals number of output; no. of bias = no. of outputs; weights = no. of(input*output)\n",
    "        self.fc3 = nn.Linear(256, 16)\n",
    "        self.fc4 = nn.Linear(16,1)\n",
    "        self.dropout1 = nn.Dropout(0.1)\n",
    "\n",
    "    def forward(self, x):              # x is the input vector #\n",
    "        x = F.tanh(self.fc1(x))\n",
    "        x = F.tanh(self.fc2(x))\n",
    "        x = F.tanh(self.fc3(x))\n",
    "        x = self.fc4(x)                # real value\n",
    "        return x"
   ]
  },
  {
   "cell_type": "code",
   "execution_count": 2,
   "metadata": {},
   "outputs": [
    {
     "name": "stderr",
     "output_type": "stream",
     "text": [
      "C:\\Users\\himan\\AppData\\Local\\Temp\\ipykernel_33336\\3732659971.py:12: RuntimeWarning: invalid value encountered in log10\n",
      "  DataF = np.log10(DataF1)\n",
      "C:\\Users\\himan\\AppData\\Local\\Temp\\ipykernel_33336\\3732659971.py:18: RuntimeWarning: invalid value encountered in log10\n",
      "  DataTime = np.log10(DataTime1)\n"
     ]
    }
   ],
   "source": [
    "data = pd.read_excel('./DataSplit/'+Material+'/_Sine/' + Material +'_Sine'+ '.xlsx')\n",
    "\n",
    "DataF1 = data['Freq (kHz)'].to_numpy()\n",
    "DataB1 = data['Bpkpk (mT)'].to_numpy()\n",
    "DataT1 = data['T'].to_numpy()\n",
    "DataBmin1 = data['minBpk (mT)'].to_numpy()\n",
    "DataBmax1 = data['maxBpk (mT)'].to_numpy()\n",
    "DataBRMS1 = data['RMSB (mT)'].to_numpy()\n",
    "DataTime1 = data['Period (us)'].to_numpy()\n",
    "DataIndSine = data['DataIndex'].to_numpy()\n",
    "\n",
    "DataF = np.log10(DataF1)\n",
    "DataB = np.log10(DataB1)\n",
    "DataT = np.log10(DataT1)\n",
    "DataBmin = np.log10(DataBmin1)\n",
    "DataBmax = np.log10(DataBmax1)\n",
    "DataBRMS = np.log10(DataBRMS1)\n",
    "DataTime = np.log10(DataTime1)\n",
    "\n",
    "DataF = DataF.reshape((-1,1))\n",
    "DataB = DataB.reshape((-1,1))\n",
    "DataT = DataT.reshape((-1,1))\n",
    "DataBmin = DataBmin.reshape((-1,1))\n",
    "DataBmax = DataBmax.reshape((-1,1))\n",
    "DataBRMS = DataBRMS.reshape((-1,1))\n",
    "DataTime = DataTime.reshape((-1,1))\n",
    "\n",
    "input_data = np.concatenate((DataF,DataB,DataT,DataBmin,DataBmax,DataBRMS,DataTime),axis=1)\n",
    "input_tensors = torch.from_numpy(input_data).view(-1,7)\n",
    "dataset_sine = torch.utils.data.TensorDataset(input_tensors)"
   ]
  },
  {
   "cell_type": "code",
   "execution_count": null,
   "metadata": {},
   "outputs": [],
   "source": [
    "test_loader_sine = torch.utils.data.DataLoader(dataset_sine, batch_size = 128, shuffle = False)\n",
    "\n",
    "ckpt_sine = torch.load('./Trained_Models/'+Material+'_sine_train.pt')\n",
    "net_sine = ckpt_sine['model'] # load the trained model\n",
    "y_pred = []\n",
    "net_sine.eval()\n",
    "with torch.no_grad():\n",
    "    for inputs, in test_loader_sine:\n",
    "        test_out = net_sine(inputs)\n",
    "        y_pred.append(test_out)\n",
    "\n",
    "y_pred = torch.cat(y_pred, dim=0)\n",
    "sine_test_out = (10**(y_pred.numpy()))*1e3\n",
    "sine_index    = DataIndSine"
   ]
  }
 ],
 "metadata": {
  "kernelspec": {
   "display_name": "Python 3",
   "language": "python",
   "name": "python3"
  },
  "language_info": {
   "codemirror_mode": {
    "name": "ipython",
    "version": 3
   },
   "file_extension": ".py",
   "mimetype": "text/x-python",
   "name": "python",
   "nbconvert_exporter": "python",
   "pygments_lexer": "ipython3",
   "version": "3.11.7"
  }
 },
 "nbformat": 4,
 "nbformat_minor": 2
}
